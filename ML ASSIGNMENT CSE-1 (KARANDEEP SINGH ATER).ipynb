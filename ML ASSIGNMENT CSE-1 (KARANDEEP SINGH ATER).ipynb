{
 "cells": [
  {
   "cell_type": "code",
   "execution_count": 4,
   "metadata": {},
   "outputs": [
    {
     "name": "stdout",
     "output_type": "stream",
     "text": [
      "karandeep 21\n",
      "karandeep will turn 100 years in the year 2100\n"
     ]
    }
   ],
   "source": [
    "# question 1\n",
    "from datetime import date\n",
    "name, age = input().split()\n",
    "age = int(age)\n",
    "current_year = date.today().year\n",
    "target_year = current_year+(100-age)\n",
    "print(name,\"will turn 100 years in the year\",target_year)"
   ]
  },
  {
   "cell_type": "code",
   "execution_count": 8,
   "metadata": {},
   "outputs": [
    {
     "name": "stdout",
     "output_type": "stream",
     "text": [
      "karandeep 21 6\n",
      "karandeep will turn 100 years in the year 2100\n",
      "karandeep will turn 100 years in the year 2100\n",
      "karandeep will turn 100 years in the year 2100\n",
      "karandeep will turn 100 years in the year 2100\n",
      "karandeep will turn 100 years in the year 2100\n",
      "karandeep will turn 100 years in the year 2100\n"
     ]
    }
   ],
   "source": [
    "# question 1\n",
    "from datetime import date\n",
    "name, age, length = input().split()\n",
    "age = int(age)\n",
    "length = int(length)\n",
    "current_year = date.today().year\n",
    "target_year = current_year+(100-age)\n",
    "while length>0:\n",
    "    print(name,\"will turn 100 years in the year\",target_year)\n",
    "    length -= 1"
   ]
  },
  {
   "cell_type": "code",
   "execution_count": 9,
   "metadata": {},
   "outputs": [
    {
     "name": "stdout",
     "output_type": "stream",
     "text": [
      "1\n",
      "1\n",
      "2\n",
      "3\n"
     ]
    }
   ],
   "source": [
    "# question 2\n",
    "a = [1,1,2,3,5,8,13,21,34,55,89]\n",
    "for i in a:\n",
    "    if i < 5:\n",
    "        print(i)"
   ]
  },
  {
   "cell_type": "code",
   "execution_count": 10,
   "metadata": {},
   "outputs": [
    {
     "name": "stdout",
     "output_type": "stream",
     "text": [
      "[1, 1, 2, 3]\n"
     ]
    }
   ],
   "source": [
    "# question 2\n",
    "a = [1,1,2,3,5,8,13,21,34,55,89]\n",
    "b = [i for i in a if i < 5]\n",
    "print(b)\n"
   ]
  },
  {
   "cell_type": "code",
   "execution_count": 11,
   "metadata": {},
   "outputs": [
    {
     "name": "stdout",
     "output_type": "stream",
     "text": [
      "6\n",
      "[1, 1, 2, 3, 5]\n"
     ]
    }
   ],
   "source": [
    "# question 2\n",
    "num = int(input())\n",
    "a = [1,1,2,3,5,8,13,21,34,55,89]\n",
    "b = [i for i in a if i < num]\n",
    "print(b)"
   ]
  },
  {
   "cell_type": "code",
   "execution_count": 12,
   "metadata": {},
   "outputs": [
    {
     "name": "stdout",
     "output_type": "stream",
     "text": [
      "7\n",
      "1\n",
      "1\n",
      "2\n",
      "3\n",
      "5\n",
      "8\n",
      "13\n"
     ]
    }
   ],
   "source": [
    "# question 3\n",
    "def fibonacci(number):\n",
    "    first_val = 0\n",
    "    second_val = 1\n",
    "    print(second_val)\n",
    "    for i in range(1,number):\n",
    "        if(number<=1):\n",
    "            next = num\n",
    "        else:\n",
    "            next = first_val + second_val\n",
    "            first_val = second_val\n",
    "            second_val = next\n",
    "        print(next)\n",
    "        \n",
    "        \n",
    "num = int(input())\n",
    "fibonacci(num)"
   ]
  },
  {
   "cell_type": "code",
   "execution_count": 14,
   "metadata": {},
   "outputs": [
    {
     "name": "stdout",
     "output_type": "stream",
     "text": [
      "1 1 3 4 3 3 3 2 2 1\n",
      "[1, 3, 4, 2]\n"
     ]
    }
   ],
   "source": [
    "# question 4\n",
    "def remove_duplicate_loop(a):\n",
    "    final_a = []\n",
    "    [final_a.append(n) for n in a if n not in final_a]\n",
    "    print(final_a)\n",
    "a = [int(i) for i in input().split()]\n",
    "remove_duplicate_loop(a)"
   ]
  },
  {
   "cell_type": "code",
   "execution_count": 15,
   "metadata": {},
   "outputs": [
    {
     "name": "stdout",
     "output_type": "stream",
     "text": [
      "1 1 2 2 3 3 4 4 5\n",
      "{1, 2, 3, 4, 5}\n"
     ]
    }
   ],
   "source": [
    "# question 4\n",
    "\n",
    "def remove_duplicate_sets(a):\n",
    "    a = set(a)\n",
    "    print(a)\n",
    "a = [int(i) for i in input().split()]\n",
    "remove_duplicate_sets(a)"
   ]
  },
  {
   "cell_type": "code",
   "execution_count": 18,
   "metadata": {},
   "outputs": [
    {
     "name": "stdout",
     "output_type": "stream",
     "text": [
      "7\n",
      "7 is a prime number\n"
     ]
    }
   ],
   "source": [
    "# question 5\n",
    "import math\n",
    "def isprime(num):\n",
    "    flag = 1\n",
    "    if(num <= 1):\n",
    "        flag = 0\n",
    "    for i in range(2,int(math.sqrt(num))):\n",
    "        if(num%i == 0):\n",
    "            flag = 0\n",
    "            break\n",
    "    if flag == 1:\n",
    "        print(num,\"is a prime number\")\n",
    "    else:\n",
    "        print(num,\"is not a prime number\")\n",
    "num = int(input())\n",
    "isprime(num)"
   ]
  },
  {
   "cell_type": "code",
   "execution_count": null,
   "metadata": {},
   "outputs": [],
   "source": []
  }
 ],
 "metadata": {
  "kernelspec": {
   "display_name": "Python 3",
   "language": "python",
   "name": "python3"
  },
  "language_info": {
   "codemirror_mode": {
    "name": "ipython",
    "version": 3
   },
   "file_extension": ".py",
   "mimetype": "text/x-python",
   "name": "python",
   "nbconvert_exporter": "python",
   "pygments_lexer": "ipython3",
   "version": "3.7.3"
  }
 },
 "nbformat": 4,
 "nbformat_minor": 2
}
